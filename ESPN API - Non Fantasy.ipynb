{
 "cells": [
  {
   "cell_type": "code",
   "execution_count": 1,
   "id": "555dffa7-968d-42db-a5f6-18b41104e2f3",
   "metadata": {},
   "outputs": [],
   "source": [
    "import requests\n",
    "import pandas as pd\n",
    "import json\n",
    "import requests\n",
    "\n",
    "import os.path"
   ]
  },
  {
   "cell_type": "code",
   "execution_count": 2,
   "id": "1dc70d76-d6c8-45a9-a8db-e7f9939220ff",
   "metadata": {},
   "outputs": [],
   "source": [
    "rerun = False"
   ]
  },
  {
   "cell_type": "markdown",
   "id": "f6b4580c-07e8-43d7-a7c8-691f38f2ec79",
   "metadata": {},
   "source": [
    "# Get Player IDs"
   ]
  },
  {
   "cell_type": "code",
   "execution_count": 3,
   "id": "4b17308c-bcc0-4b7e-9d3c-0196404c0fad",
   "metadata": {},
   "outputs": [],
   "source": [
    "if rerun and os.path.isfile('links_for_player_ids.json') == False:\n",
    "    ref_list = []\n",
    "    for num in range(1, 7):\n",
    "        url = 'https://sports.core.api.espn.com/v2/sports/football/leagues/nfl/athletes?limit=1000&active=true&page={}'.format(num)\n",
    "    \n",
    "        r = requests.get(url)\n",
    "        d = r.json()\n",
    "    \n",
    "        ref_list += d['items']\n",
    "    with open('links_for_player_ids.json', 'w') as f:\n",
    "        json.dump(ref_list, f, ensure_ascii=False, indent=4)"
   ]
  },
  {
   "cell_type": "code",
   "execution_count": 4,
   "id": "49bfab1a-e61d-4d69-a137-8236d7349cb4",
   "metadata": {},
   "outputs": [],
   "source": [
    "player_id_data = json.load(open('links_for_player_ids.json'))"
   ]
  },
  {
   "cell_type": "markdown",
   "id": "a4383217-0aa8-4546-81b3-99cf04170e22",
   "metadata": {},
   "source": [
    "# Get Specific Player Info/QBRs for NFL"
   ]
  },
  {
   "cell_type": "code",
   "execution_count": 5,
   "id": "a0104fa1-ecf8-497b-9001-1ca0b2311637",
   "metadata": {},
   "outputs": [],
   "source": [
    "player_ids = []\n",
    "for player in range(0, len(player_id_data)):\n",
    "    player_ids.append(player_id_data[player]['$ref'][72:int(player_id_data[player]['$ref'].find('?'))])"
   ]
  },
  {
   "cell_type": "code",
   "execution_count": 9,
   "id": "2cee904f-f9ae-4d57-bf58-39181fe3eaa8",
   "metadata": {},
   "outputs": [
    {
     "name": "stdout",
     "output_type": "stream",
     "text": [
      "2574511 Brandon Allen\n",
      "3918298 Josh Allen\n",
      "3115293 Kyle Allen\n",
      "4434153 Tyson Bagent\n",
      "15948 Matt Barkley\n",
      "2979520 C.J. Beathard\n",
      "3040535 Kurt Benkert\n",
      "3116188 David Blough\n",
      "4046678 Ian Book\n",
      "16724 Blake Bortles\n",
      "3045169 Tim Boyle\n",
      "16252 Tyler Bray\n",
      "2578570 Jacoby Brissett\n",
      "4035312 Anthony Brown\n",
      "3886812 Jake Browning\n",
      "3915511 Joe Burrow\n",
      "16757 Derek Carr\n",
      "4259592 Sean Clifford\n",
      "2576261 Connor Cook\n",
      "14880 Kirk Cousins\n",
      "4240069 Malik Cunningham\n",
      "14012 Andy Dalton\n",
      "12471 Chase Daniel\n",
      "3912547 Sam Darnold\n",
      "4240391 Tommy DeVito\n",
      "3895785 Ben DiNucci\n",
      "3044720 Joshua Dobbs\n",
      "2574630 Jeff Driskel\n",
      "4035003 Jacob Eason\n",
      "4241820 Sam Ehlinger\n",
      "16821 David Fales\n",
      "4362887 Justin Fields\n",
      "11252 Joe Flacco\n",
      "14877 Nick Foles\n",
      "4240689 Jake Fromm\n",
      "13987 Blaine Gabbert\n",
      "16760 Jimmy Garoppolo\n",
      "16809 Garrett Gilbert\n",
      "15837 Mike Glennon\n",
      "3046779 Jared Goff\n",
      "3115252 Will Grier\n",
      "16140 Ryan Griffin\n",
      "14875 Robert Griffin III\n",
      "4373632 Jaren Hall\n",
      "2565969 Taylor Heinicke\n",
      "4038941 Justin Herbert\n",
      "2468609 Taysom Hill\n",
      "2577128 Kevin Hogan\n",
      "4426875 Sam Howell\n",
      "12477 Brian Hoyer\n",
      "2577189 Brett Hundley\n",
      "4035671 Tyler Huntley\n",
      "4040715 Jalen Hurts\n",
      "3916387 Lamar Jackson\n",
      "11394 Josh Johnson\n",
      "3917792 Daniel Jones\n",
      "15904 Landry Jones\n",
      "4241464 Mac Jones\n",
      "15168 Case Keenum\n",
      "2977665 Chad Kelly\n",
      "2577243 Cody Kessler\n",
      "3129302 DeShone Kizer\n",
      "4383351 Trey Lance\n",
      "3049872 Kyle Lauletta\n",
      "4360310 Trevor Lawrence\n",
      "4361418 Will Levis\n",
      "3924327 Drew Lock\n",
      "4036378 Jordan Love\n",
      "3124900 Jake Luton\n",
      "2977881 Paxton Lynch\n",
      "3139477 Patrick Mahomes\n",
      "2517017 Sean Mannion\n",
      "2576980 Marcus Mariota\n",
      "3052587 Baker Mayfield\n",
      "16810 AJ McCarron\n",
      "3609 Josh McCown\n",
      "13199 Colt McCoy\n",
      "3116172 Trace McSorley\n",
      "4242546 Davis Mills\n",
      "4038524 Gardner Minshew\n",
      "4240904 Kellen Mond\n",
      "11128 Matt Moore\n",
      "3059989 Nick Mullens\n",
      "3917315 Kyler Murray\n",
      "4260394 Aidan O'Connell\n",
      "3675812 Bryce Perkins\n",
      "2972236 Nathan Peterman\n",
      "4240703 Kenny Pickett\n",
      "2577417 Dak Prescott\n",
      "4361741 Brock Purdy\n",
      "4429084 Anthony Richardson\n",
      "4239086 Desmond Ridder\n",
      "8439 Aaron Rodgers\n",
      "3886377 Josh Rosen\n",
      "2582424 Jake Rudock\n",
      "3116407 Mason Rudolph\n",
      "2972515 Cooper Rush\n",
      "11237 Matt Ryan\n",
      "3722362 Brett Rypien\n",
      "2511109 Trevor Siemian\n",
      "15407 Matt Simms\n",
      "15864 Geno Smith\n",
      "12483 Matthew Stafford\n",
      "10487 Drew Stanton\n",
      "3120590 Easton Stick\n",
      "3892775 Jarrett Stidham\n",
      "3040206 Chris Streveler\n",
      "4432577 C.J. Stroud\n",
      "2979501 Nate Sudfeld\n",
      "4241479 Tua Tagovailoa\n",
      "14876 Ryan Tannehill\n",
      "14163 Tyrod Taylor\n",
      "4036419 Skylar Thompson\n",
      "4367178 Dorian Thompson-Robinson\n",
      "4034946 Kyle Trask\n",
      "3039707 Mitch Trubisky\n",
      "4360175 Clayton Tune\n",
      "3051308 PJ Walker\n",
      "3122840 Deshaun Watson\n",
      "3052600 Davis Webb\n",
      "13484 Joe Webb\n",
      "2573079 Carson Wentz\n",
      "3051381 Mike White\n",
      "4242512 Malik Willis\n",
      "14881 Russell Wilson\n",
      "4361259 Zach Wilson\n",
      "2969939 Jameis Winston\n",
      "3124092 John Wolford\n",
      "3042749 Logan Woodside\n",
      "4685720 Bryce Young\n",
      "4250360 Bailey Zappe\n"
     ]
    }
   ],
   "source": [
    "full_dict = {}\n",
    "\n",
    "for player_id in player_ids:\n",
    "\n",
    "    # This gets every single players info (height, weight, team, etc.)\n",
    "    info_url = \"http://sports.core.api.espn.com/v2/sports/football/leagues/nfl/athletes/{}?lang=en&region=us\".format(player_id)\n",
    "    \n",
    "    player_info_req = requests.get(info_url)\n",
    "    player_info = player_info_req.json()\n",
    "\n",
    "    # Filters for QBs only\n",
    "    if player_info['position']['id'] == '8':\n",
    "\n",
    "        # This gets all the stats for every season a QB played in the NFL\n",
    "        # Note: If no stats this pops an error\n",
    "        seasons_url = 'http://sports.core.api.espn.com/v2/sports/football/leagues/nfl/athletes/{}/statisticslog?lang=en&region=us'.format(player_id)\n",
    "\n",
    "        player_seasons_req = requests.get(seasons_url)\n",
    "        player_seasons = player_seasons_req.json()\n",
    "\n",
    "        # Iterates through every link to each season of stats\n",
    "        if 'entries' in player_seasons.keys():\n",
    "            print(player_id, player_info['displayName'])\n",
    "            if 'country' in player_info['birthPlace'].keys():\n",
    "                country = player_info['birthPlace']['country']\n",
    "            else:\n",
    "                country = 'Not Given'\n",
    "                \n",
    "            full_dict[player_id] = {'player_name':player_info['displayName'],\n",
    "                                    'date_of_birth':player_info['dateOfBirth'],\n",
    "                                    'city':player_info['birthPlace']['city'],\n",
    "                                    'state':player_info['birthPlace']['state'],\n",
    "                                    'country':country,\n",
    "                                    'height':player_info['height'],\n",
    "                                    'weight':player_info['weight']\n",
    "                                   }\n",
    "\n",
    "            # This is done in case the player wasn't drafted or is \n",
    "            # a rookie. If either are true, this pops an error\n",
    "            if 'debutYear' in player_info.keys():\n",
    "                full_dict[player_id]['debut_year'] = player_info['debutYear']\n",
    "            elif 'debutYear' not in player_info.keys() and player_info['experience']['years'] == 0:\n",
    "                full_dict[player_id]['debut_year'] = 2023\n",
    "            elif 'debutYear' not in player_info.keys() and player_info['experience']['years'] != 0:\n",
    "                full_dict[player_id]['debut_year'] = player_seasons['entries'][-1]['season']['$ref'][71:75]\n",
    "            else:\n",
    "                raise Exception(\"Player is not an undrafted free agent or in debut year\") \n",
    "                \n",
    "            \n",
    "            # This is done for Undrafted Free Agents. It pops an error if\n",
    "            # they weren't drafted\n",
    "            if 'draft' in player_info.keys():\n",
    "                full_dict[player_id]['draft'] = {\n",
    "                                        'year':player_info['draft']['year'],\n",
    "                                        'round':player_info['draft']['round'],\n",
    "                                        'selection':player_info['draft']['selection']\n",
    "                                    }\n",
    "            else:\n",
    "                full_dict[player_id]['draft'] = 'UDFA'\n",
    "\n",
    "            for stats in player_seasons['entries']:\n",
    "                nfl_stats = {}\n",
    "                player_stats_req = requests.get(stats['statistics'][0]['statistics']['$ref'])\n",
    "                player_stats = player_stats_req.json()\n",
    "    \n",
    "                # Gets all types of NFL QBRs for each season\n",
    "                for qbr in player_stats['splits']['categories'][1]['stats']:\n",
    "                    if (\"QBR\" in qbr['name']) or (\"quarterbackRating\" in qbr['name']):\n",
    "                        year = stats['statistics'][0]['statistics']['$ref'][71:75]\n",
    "                        if year in nfl_stats.keys():\n",
    "                            nfl_stats[year].update({qbr['name']:qbr['value']})\n",
    "                        else:\n",
    "                            nfl_stats[year] = {qbr['name']:qbr['value']}\n",
    "                            \n",
    "                if 'nfl' not in full_dict[player_id].keys():\n",
    "                    full_dict[player_id]['nfl'] = nfl_stats\n",
    "                else:\n",
    "                    full_dict[player_id]['nfl'].update(nfl_stats)\n",
    "    else:\n",
    "        pass"
   ]
  },
  {
   "cell_type": "code",
   "execution_count": 11,
   "id": "73643784-a9cf-45d8-a410-aef7e589e10d",
   "metadata": {},
   "outputs": [],
   "source": [
    "with open('player_stats_dictionary.json', 'w') as f:\n",
    "    json.dump(full_dict, f, ensure_ascii=False, indent=4)"
   ]
  },
  {
   "cell_type": "markdown",
   "id": "3d979078-1e78-4c16-95b3-65ed26c7a1d0",
   "metadata": {},
   "source": [
    "# Specific CURRENT College Players"
   ]
  },
  {
   "cell_type": "code",
   "execution_count": 14,
   "id": "eb2b2bf8-f930-4551-aa92-373320147186",
   "metadata": {},
   "outputs": [],
   "source": [
    "url = 'http://sports.core.api.espn.com/v2/sports/football/leagues/nfl/athletes/3046779/statistics'\n",
    "\n",
    "r = requests.get(url)\n",
    "d = r.json()"
   ]
  },
  {
   "cell_type": "code",
   "execution_count": 17,
   "id": "c5dba840-a168-445c-a0e0-641facfb35d6",
   "metadata": {},
   "outputs": [],
   "source": [
    "r_2 = requests.get(d['athlete']['$ref'])\n",
    "d_2 = r_2.json()"
   ]
  },
  {
   "cell_type": "code",
   "execution_count": 23,
   "id": "b12360aa-28ff-43d7-9768-87326c769712",
   "metadata": {},
   "outputs": [],
   "source": [
    "r_3 = requests.get(d_2['collegeAthlete']['$ref'])\n",
    "d_3 = r_3.json()"
   ]
  },
  {
   "cell_type": "code",
   "execution_count": 26,
   "id": "0b4caa4d-a8fa-4ef1-ba8e-c051e88855d8",
   "metadata": {},
   "outputs": [],
   "source": [
    "r_4 = requests.get(d_3['statisticslog']['$ref'])\n",
    "d_4 = r_4.json()"
   ]
  },
  {
   "cell_type": "code",
   "execution_count": 78,
   "id": "afaa41a5-7022-4ac7-9236-8fda1e21ebb6",
   "metadata": {},
   "outputs": [
    {
     "name": "stdout",
     "output_type": "stream",
     "text": [
      "http://sports.core.api.espn.com/v2/sports/football/leagues/college-football/seasons/2015/types/3/athletes/547401/statistics/0?lang=en&region=us\n",
      "http://sports.core.api.espn.com/v2/sports/football/leagues/college-football/seasons/2014/types/3/athletes/547401/statistics/0?lang=en&region=us\n",
      "http://sports.core.api.espn.com/v2/sports/football/leagues/college-football/seasons/2013/types/3/athletes/547401/statistics/0?lang=en&region=us\n"
     ]
    }
   ],
   "source": [
    "for x in d_4['entries']:\n",
    "    for i in x['statistics']:\n",
    "        if i['type'] == 'total':\n",
    "            print(i['statistics']['$ref'])"
   ]
  },
  {
   "cell_type": "code",
   "execution_count": 35,
   "id": "de3163c2-8c9d-43db-bc70-e909c54d968a",
   "metadata": {},
   "outputs": [],
   "source": [
    "r_5 = requests.get(d_4['entries'][0]['statistics'][0]['statistics']['$ref'])\n",
    "d_5 = r_5.json()"
   ]
  },
  {
   "cell_type": "code",
   "execution_count": 62,
   "id": "b8f299bd-b9bc-445b-99e8-373b9ae66168",
   "metadata": {},
   "outputs": [
    {
     "name": "stdout",
     "output_type": "stream",
     "text": [
      "general\n",
      "passing\n",
      "rushing\n",
      "receiving\n",
      "punting\n",
      "scoring\n"
     ]
    }
   ],
   "source": [
    "for x in d_5['splits']['categories']:\n",
    "    print(x['name'])"
   ]
  },
  {
   "cell_type": "code",
   "execution_count": 64,
   "id": "ad598fbd-72a4-41a6-8bb8-79493b27d3be",
   "metadata": {},
   "outputs": [
    {
     "data": {
      "text/plain": [
       "[{'name': 'fumbles',\n",
       "  'displayName': 'Fumbles',\n",
       "  'shortDisplayName': 'F',\n",
       "  'description': 'The number of times a player/team has fumbled the ball',\n",
       "  'abbreviation': 'FUM',\n",
       "  'value': 0.0,\n",
       "  'displayValue': '0'},\n",
       " {'name': 'fumblesLost',\n",
       "  'displayName': 'Fumbles Lost',\n",
       "  'shortDisplayName': 'FL',\n",
       "  'description': 'The number of times a fumble is recovered by the opposing team',\n",
       "  'abbreviation': 'LST',\n",
       "  'value': 0.0,\n",
       "  'displayValue': '0'},\n",
       " {'name': 'fumblesTouchdowns',\n",
       "  'displayName': 'Fumbles Touchdowns',\n",
       "  'shortDisplayName': 'FTD',\n",
       "  'description': 'The number of times a fumbles is recovered and returned for a touchdown.',\n",
       "  'abbreviation': 'FTD',\n",
       "  'value': 0.0,\n",
       "  'displayValue': '0'},\n",
       " {'name': 'gamesPlayed',\n",
       "  'displayName': 'Games Played',\n",
       "  'shortDisplayName': 'GP',\n",
       "  'description': 'Games Played',\n",
       "  'abbreviation': 'GP',\n",
       "  'value': 13.0,\n",
       "  'displayValue': '13'},\n",
       " {'name': 'offensiveTwoPtReturns',\n",
       "  'displayName': 'Two Point Returns',\n",
       "  'shortDisplayName': '2PTR',\n",
       "  'description': 'The number of two point attempts that is returned by the offense.',\n",
       "  'abbreviation': '2PTR',\n",
       "  'value': 0.0,\n",
       "  'displayValue': '0'},\n",
       " {'name': 'offensiveFumblesTouchdowns',\n",
       "  'displayName': 'Fumbles Touchdowns',\n",
       "  'shortDisplayName': 'OFTD',\n",
       "  'description': 'The number of times a fumbles is recovered and returned for a touchdown by the offense.',\n",
       "  'abbreviation': 'OFTD',\n",
       "  'value': 0.0,\n",
       "  'displayValue': '0'},\n",
       " {'name': 'defensiveFumblesTouchdowns',\n",
       "  'displayName': 'Fumbles Touchdowns',\n",
       "  'shortDisplayName': 'DFTD',\n",
       "  'description': 'The number of times a fumbles is recovered and returned for a touchdown by the defense.',\n",
       "  'abbreviation': 'DFTD',\n",
       "  'value': 0.0,\n",
       "  'displayValue': '0'}]"
      ]
     },
     "execution_count": 64,
     "metadata": {},
     "output_type": "execute_result"
    }
   ],
   "source": [
    "d_5['splits']['categories'][0]['stats']"
   ]
  },
  {
   "cell_type": "code",
   "execution_count": 82,
   "id": "944b6a8b-e8c5-4a5b-82e1-599a37ab543b",
   "metadata": {},
   "outputs": [
    {
     "name": "stdout",
     "output_type": "stream",
     "text": [
      "avgGain 0.0\n",
      "completionPct 64.46099853515625\n",
      "completions 341.0\n",
      "ESPNQBRating 0.0\n",
      "interceptionPct 2.4570000171661377\n",
      "interceptions 13.0\n",
      "longPassing 80.0\n",
      "netPassingYards 4719.0\n",
      "netPassingYardsPerGame 0.0\n",
      "netTotalYards 4711.0\n",
      "netYardsPerGame 0.0\n",
      "passingAttempts 529.0\n",
      "passingBigPlays 0.0\n",
      "passingFirstDowns 0.0\n",
      "passingFumbles 0.0\n",
      "passingFumblesLost 0.0\n",
      "passingTouchdownPct 8.128999710083008\n",
      "passingTouchdowns 43.0\n",
      "passingYards 4719.0\n",
      "passingYardsAfterCatch 0.0\n",
      "passingYardsAtCatch 4719.0\n",
      "passingYardsPerGame 0.0\n",
      "QBRating 161.30760192871094\n",
      "sacks 26.0\n",
      "sackYardsLost -200.0\n",
      "teamGamesPlayed 13.0\n",
      "totalOffensivePlays 611.0\n",
      "totalPointsPerGame 0.0\n",
      "totalTouchdowns 43.0\n",
      "totalYards 4711.0\n",
      "totalYardsFromScrimmage 3.0\n",
      "twoPointPassConvs 0.0\n",
      "twoPtPass 1.0\n",
      "twoPtPassAttempts 4.0\n",
      "yardsFromScrimmagePerGame 0.0\n",
      "yardsPerCompletion 13.83899974822998\n",
      "yardsPerGame 0.0\n",
      "yardsPerPassAttempt 8.920999526977539\n",
      "netYardsPerPassAttempt 8.502702702702702\n",
      "quarterbackRating 60.41699981689453\n"
     ]
    }
   ],
   "source": [
    "for x in d_5['splits']['categories'][1]['stats']:\n",
    "    print(x['name'], x['value'])"
   ]
  },
  {
   "cell_type": "code",
   "execution_count": null,
   "id": "f009c3f7-a44a-4ecb-8d6e-8dbae68d64dc",
   "metadata": {},
   "outputs": [],
   "source": []
  }
 ],
 "metadata": {
  "kernelspec": {
   "display_name": "Python 3 (ipykernel)",
   "language": "python",
   "name": "python3"
  },
  "language_info": {
   "codemirror_mode": {
    "name": "ipython",
    "version": 3
   },
   "file_extension": ".py",
   "mimetype": "text/x-python",
   "name": "python",
   "nbconvert_exporter": "python",
   "pygments_lexer": "ipython3",
   "version": "3.8.18"
  }
 },
 "nbformat": 4,
 "nbformat_minor": 5
}
