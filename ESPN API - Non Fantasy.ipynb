{
 "cells": [
  {
   "cell_type": "code",
   "execution_count": null,
   "id": "555dffa7-968d-42db-a5f6-18b41104e2f3",
   "metadata": {},
   "outputs": [],
   "source": [
    "import requests\n",
    "import pandas as pd\n",
    "import datetime\n",
    "\n",
    "import json\n",
    "import os.path\n",
    "import glob"
   ]
  },
  {
   "cell_type": "code",
   "execution_count": null,
   "id": "eb030488",
   "metadata": {},
   "outputs": [],
   "source": [
    "today = pd.Timestamp.now().strftime('%Y_%m_%d_%H_%M_%S')"
   ]
  },
  {
   "cell_type": "markdown",
   "id": "f6b4580c-07e8-43d7-a7c8-691f38f2ec79",
   "metadata": {},
   "source": [
    "# Get Player IDs"
   ]
  },
  {
   "cell_type": "code",
   "execution_count": null,
   "id": "4b17308c-bcc0-4b7e-9d3c-0196404c0fad",
   "metadata": {},
   "outputs": [],
   "source": [
    "ref_list = []\n",
    "for num in range(1, 7):\n",
    "    url = 'https://sports.core.api.espn.com/v2/sports/football/leagues/nfl/athletes?limit=1000&active=true&page={}'.format(num)\n",
    "\n",
    "    r = requests.get(url)\n",
    "    d = r.json()\n",
    "\n",
    "    ref_list += d['items']\n",
    "\n",
    "file = 'links_for_player_ids' + '_' + today + '.json'\n",
    "with open(file, 'w') as f:\n",
    "    json.dump(ref_list, f, ensure_ascii=False, indent=4)"
   ]
  },
  {
   "cell_type": "code",
   "execution_count": null,
   "id": "b3a10b48",
   "metadata": {},
   "outputs": [],
   "source": [
    "list_of_files = glob.glob('links_for_player_ids*') # * means all if need specific format then *.csv\n",
    "latest_file = max(list_of_files, key=os.path.getctime)"
   ]
  },
  {
   "cell_type": "code",
   "execution_count": null,
   "id": "49bfab1a-e61d-4d69-a137-8236d7349cb4",
   "metadata": {},
   "outputs": [],
   "source": [
    "player_id_data = json.load(open(latest_file))"
   ]
  },
  {
   "cell_type": "markdown",
   "id": "a4383217-0aa8-4546-81b3-99cf04170e22",
   "metadata": {},
   "source": [
    "# Get Specific Player Info/QBRs for NFL"
   ]
  },
  {
   "cell_type": "code",
   "execution_count": null,
   "id": "a0104fa1-ecf8-497b-9001-1ca0b2311637",
   "metadata": {},
   "outputs": [],
   "source": [
    "player_ids = []\n",
    "for player in range(0, len(player_id_data)):\n",
    "    player_ids.append(player_id_data[player]['$ref'][72:int(player_id_data[player]['$ref'].find('?'))])"
   ]
  },
  {
   "cell_type": "code",
   "execution_count": null,
   "id": "2cee904f-f9ae-4d57-bf58-39181fe3eaa8",
   "metadata": {},
   "outputs": [],
   "source": [
    "full_dict = {}\n",
    "\n",
    "for player_id in player_ids:\n",
    "\n",
    "    # This gets every single players info (height, weight, team, etc.)\n",
    "    info_url = \"http://sports.core.api.espn.com/v2/sports/football/leagues/nfl/athletes/{}?lang=en&region=us\".format(player_id)\n",
    "    \n",
    "    player_info_req = requests.get(info_url)\n",
    "    player_info = player_info_req.json()\n",
    "\n",
    "    # Filters for QBs only\n",
    "    if player_info['position']['id'] == '8':\n",
    "        # This gets all the stats for every season a QB played in the NFL\n",
    "        # Note: If no stats this pops an error\n",
    "        seasons_url = 'http://sports.core.api.espn.com/v2/sports/football/leagues/nfl/athletes/{}/statisticslog?lang=en&region=us'.format(player_id)\n",
    "\n",
    "        player_seasons_req = requests.get(seasons_url)\n",
    "        player_seasons = player_seasons_req.json()\n",
    "\n",
    "        # Iterates through every link to each season of stats\n",
    "        if 'entries' in player_seasons.keys():\n",
    "            print(player_id, player_info['displayName'])\n",
    "            if 'country' in player_info['birthPlace'].keys():\n",
    "                country = player_info['birthPlace']['country']\n",
    "            else:\n",
    "                country = 'Not Given'\n",
    "                \n",
    "            full_dict[player_id] = {'player_name':player_info['displayName'],\n",
    "                                    'date_of_birth':player_info['dateOfBirth'],\n",
    "                                    'city':player_info['birthPlace']['city'],\n",
    "                                    'state':player_info['birthPlace']['state'],\n",
    "                                    'country':country,\n",
    "                                    'height':player_info['height'],\n",
    "                                    'weight':player_info['weight']\n",
    "                                   }\n",
    "\n",
    "            # This is done in case the player wasn't drafted or is \n",
    "            # a rookie. If either are true, this pops an error\n",
    "            if 'debutYear' in player_info.keys():\n",
    "                full_dict[player_id]['debut_year'] = player_info['debutYear']\n",
    "            elif 'debutYear' not in player_info.keys() and player_info['experience']['years'] == 0:\n",
    "                full_dict[player_id]['debut_year'] = 2023\n",
    "            elif 'debutYear' not in player_info.keys() and player_info['experience']['years'] != 0:\n",
    "                full_dict[player_id]['debut_year'] = player_seasons['entries'][-1]['season']['$ref'][71:75]\n",
    "            else:\n",
    "                raise Exception(\"Player is not an undrafted free agent or in debut year\") \n",
    "                \n",
    "            \n",
    "            # This is done for Undrafted Free Agents. It pops an error if\n",
    "            # they weren't drafted\n",
    "            if 'draft' in player_info.keys():\n",
    "                full_dict[player_id]['draft'] = {\n",
    "                                        'year':player_info['draft']['year'],\n",
    "                                        'round':player_info['draft']['round'],\n",
    "                                        'selection':player_info['draft']['selection']\n",
    "                                    }\n",
    "            else:\n",
    "                full_dict[player_id]['draft'] = 'UDFA'\n",
    "\n",
    "            for stats in player_seasons['entries']:\n",
    "                nfl_stats = {}\n",
    "                player_stats_req = requests.get(stats['statistics'][0]['statistics']['$ref'])\n",
    "                player_stats = player_stats_req.json()\n",
    "    \n",
    "                # Gets all types of NFL QBRs for each season\n",
    "                for qbr in player_stats['splits']['categories'][1]['stats']:\n",
    "                    if (\"QBR\" in qbr['name']) or (\"quarterbackRating\" in qbr['name']):\n",
    "                        year = stats['statistics'][0]['statistics']['$ref'][71:75]\n",
    "                        if year in nfl_stats.keys():\n",
    "                            nfl_stats[year].update({qbr['name']:qbr['value']})\n",
    "                        else:\n",
    "                            nfl_stats[year] = {qbr['name']:qbr['value']}\n",
    "                            \n",
    "                if 'nfl' not in full_dict[player_id].keys():\n",
    "                    full_dict[player_id]['nfl'] = nfl_stats\n",
    "                else:\n",
    "                    full_dict[player_id]['nfl'].update(nfl_stats)\n",
    "\n",
    "        # College stats start here\n",
    "        if 'collegeAthlete' in player_info.keys():\n",
    "            college_stats_req = requests.get(player_info['collegeAthlete']['$ref'])\n",
    "            college_stats = college_stats_req.json()\n",
    "            \n",
    "            if 'statisticslog' in college_stats.keys():\n",
    "                stat_by_qb_req = requests.get(college_stats['statisticslog']['$ref'])\n",
    "                stat_by_qb = stat_by_qb_req.json()\n",
    "\n",
    "                for college_year in stat_by_qb['entries']:\n",
    "                    college_stats = {}\n",
    "                    for stat_type in college_year['statistics']:\n",
    "                        if stat_type['type'] == 'total':\n",
    "                            year = stat_type['statistics']['$ref'][84:88]\n",
    "\n",
    "                            actual_stats_req = requests.get(stat_type['statistics']['$ref'])\n",
    "                            actual_stats = actual_stats_req.json()\n",
    "                            \n",
    "                            for stat in actual_stats['splits']['categories']:\n",
    "                                for value in stat['stats']:\n",
    "                                    if (stat['name'] == 'general' and value['name'] == 'gamesPlayed') or \\\n",
    "                                        (stat['name'] in ['passing', 'rushing', 'scoring']):\n",
    "                                        if year in college_stats.keys():\n",
    "                                            college_stats[year].update({value['name']:value['value']})\n",
    "                                        else:\n",
    "                                            college_stats[year] = {value['name']:value['value']}\n",
    "\n",
    "                            if player_id not in full_dict.keys():\n",
    "                                pass\n",
    "                            else:\n",
    "                                if 'college' not in full_dict[player_id].keys():\n",
    "                                    full_dict[player_id]['college'] = college_stats\n",
    "                                else:\n",
    "                                    full_dict[player_id]['college'].update(college_stats)\n",
    "                    \n",
    "            else:\n",
    "                full_dict[player_id]['college'] = None\n",
    "        else:\n",
    "            full_dict[player_id]['college'] = None\n",
    "\n",
    "    else:\n",
    "        pass"
   ]
  },
  {
   "cell_type": "code",
   "execution_count": null,
   "id": "73643784-a9cf-45d8-a410-aef7e589e10d",
   "metadata": {},
   "outputs": [],
   "source": [
    "file = 'player_stats_dictionary' + '_' + today + '.json'\n",
    "with open(file, 'w') as f:\n",
    "    json.dump(full_dict, f, ensure_ascii=False, indent=4)"
   ]
  },
  {
   "cell_type": "code",
   "execution_count": null,
   "id": "542552a2",
   "metadata": {},
   "outputs": [],
   "source": []
  }
 ],
 "metadata": {
  "kernelspec": {
   "display_name": "Python 3 (ipykernel)",
   "language": "python",
   "name": "python3"
  },
  "language_info": {
   "codemirror_mode": {
    "name": "ipython",
    "version": 3
   },
   "file_extension": ".py",
   "mimetype": "text/x-python",
   "name": "python",
   "nbconvert_exporter": "python",
   "pygments_lexer": "ipython3",
   "version": "3.10.0"
  }
 },
 "nbformat": 4,
 "nbformat_minor": 5
}
